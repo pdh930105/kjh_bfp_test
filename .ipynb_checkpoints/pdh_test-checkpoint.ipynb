{
 "cells": [
  {
   "cell_type": "code",
   "execution_count": 49,
   "id": "f4f63bfe",
   "metadata": {},
   "outputs": [],
   "source": [
    "import torch\n",
    "import torch.nn as nn\n",
    "import torch.nn.functional as F\n",
    "from copy import deepcopy"
   ]
  },
  {
   "cell_type": "code",
   "execution_count": 7,
   "id": "9e4ddf22",
   "metadata": {},
   "outputs": [],
   "source": [
    "a = nn.Conv2d(16, 16, 3, stride=1, padding=1)\n",
    "b = nn.Conv2d(16, 16, 3, stride=1, padding=1)\n",
    "c = nn.Conv2d(16, 16, 3, stride=1, padding=1)\n",
    "\n",
    "g = nn.ModuleList([a,b,c])"
   ]
  },
  {
   "cell_type": "code",
   "execution_count": 10,
   "id": "f33b2ace",
   "metadata": {},
   "outputs": [],
   "source": [
    "dummy_input =torch.ones(24, 16, 32, 32)\n",
    "dummy_output = torch.zeros(24, 16, 32, 32)\n",
    "\n",
    "for module in g:\n",
    "    dummy_output += module(dummy_input)\n",
    "    "
   ]
  },
  {
   "cell_type": "code",
   "execution_count": 45,
   "id": "a887ca83",
   "metadata": {},
   "outputs": [
    {
     "name": "stdout",
     "output_type": "stream",
     "text": [
      "['none', 'conv3', 'conv5']\n"
     ]
    }
   ],
   "source": [
    "op_name = list(OPS.keys())\n",
    "print(op_name)"
   ]
  },
  {
   "cell_type": "code",
   "execution_count": 33,
   "id": "98be9b0a",
   "metadata": {},
   "outputs": [],
   "source": [
    "OPS = {\n",
    "    'none' : lambda C_in, C_out, stride: Zero(stride),\n",
    "    'conv3' : lambda C_in, C_out, stride: nn.Conv2d(C_in, C_out, 3, stride, padding=1),\n",
    "    'conv5' : lambda C_in, C_out, stride: nn.Conv2d(C_in, C_out, 5, stride, padding=2)\n",
    "}\n",
    "\n",
    "class Zero(nn.Module):\n",
    "\n",
    "    def __init__(self, stride):\n",
    "        super(Zero, self).__init__()\n",
    "        self.stride = stride\n",
    "\n",
    "    def forward(self, x):\n",
    "        if self.stride == 1:\n",
    "            return x.mul(0.)\n",
    "        return x[:,:,::self.stride,::self.stride].mul(0.)"
   ]
  },
  {
   "cell_type": "code",
   "execution_count": 25,
   "id": "6597c848",
   "metadata": {},
   "outputs": [],
   "source": [
    "g = OPS['conv3'](16, 1)"
   ]
  },
  {
   "cell_type": "code",
   "execution_count": 58,
   "id": "f2a333fb",
   "metadata": {},
   "outputs": [],
   "source": [
    "class NAS201SearchCell(nn.Module):\n",
    "    def __init__(\n",
    "        self,\n",
    "        C_in,\n",
    "        C_out,\n",
    "        stride,\n",
    "        max_nodes,\n",
    "        op_names):\n",
    "        \n",
    "        super(NAS201SearchCell, self).__init__()\n",
    "\n",
    "        self.op_names = deepcopy(op_names)\n",
    "        self.edges = nn.ModuleDict()\n",
    "        self.max_nodes = max_nodes\n",
    "        self.in_dim = C_in\n",
    "        self.out_dim = C_out\n",
    "        \n",
    "        for i in range(1, max_nodes):\n",
    "            for j in range(i):\n",
    "                node_str = \"{:}<-{:}\".format(i, j)\n",
    "                if j == 0:\n",
    "                    xlists = [\n",
    "                        OPS[op_name](C_in, C_out, stride)\n",
    "                        for op_name in op_names\n",
    "                    ]\n",
    "                else:\n",
    "                    xlists = [\n",
    "                        OPS[op_name](C_in, C_out, 1)\n",
    "                        for op_name in op_names\n",
    "                    ]\n",
    "                self.edges[node_str] = nn.ModuleList(xlists)\n",
    "                \n",
    "        self.edge_keys = sorted(list(self.edges.keys()))\n",
    "        self.edge2index = {key: i for i, key in enumerate(self.edge_keys)}\n",
    "        self.index2key = {i:key for i, key in enumerate(self.edge_keys)}\n",
    "        self.num_edges = len(self.edges)\n",
    "        self.register_buffer('alphas', nn.Parameter(1e-3 * torch.randn(self.num_edges, len(op_names))))\n",
    "        \n",
    "\n",
    "    def extra_repr(self):\n",
    "        string = \"info :: {max_nodes} nodes, inC={in_dim}, outC={out_dim}\".format(\n",
    "            **self.__dict__\n",
    "        )\n",
    "        return string\n",
    "    \n",
    "    def get_arch_parameters(self):\n",
    "        _arch_parameters = []\n",
    "        \n",
    "        \n",
    "        for k, v in self.named_parameters():\n",
    "            if k.endswith('alpha'):\n",
    "                _arch_parameters.append(v)\n",
    "        \n",
    "        return _arch_parameters\n",
    "    \n",
    "\n",
    "    def forward(self, inputs):\n",
    "        nodes = [inputs]\n",
    "        for i in range(1, self.max_nodes):\n",
    "            inter_nodes = []\n",
    "            for j in range(i):\n",
    "                node_str = \"{:}<-{:}\".format(i, j)\n",
    "                weights = self.alphas[self.edge2index[node_str]]\n",
    "                inter_nodes.append(\n",
    "                    sum(\n",
    "                        layer(nodes[j]) * w\n",
    "                        for layer, w in zip(self.edges[node_str], weights)\n",
    "                    )\n",
    "                )\n",
    "            nodes.append(sum(inter_nodes))\n",
    "        return nodes[-1]\n"
   ]
  },
  {
   "cell_type": "code",
   "execution_count": 59,
   "id": "1a3eec92",
   "metadata": {},
   "outputs": [],
   "source": [
    "nas_cell = NAS201SearchCell(32, 32, 1, 5, op_name)"
   ]
  },
  {
   "cell_type": "code",
   "execution_count": 60,
   "id": "d9fefe89",
   "metadata": {},
   "outputs": [
    {
     "data": {
      "text/plain": [
       "{0: '1<-0',\n",
       " 1: '2<-0',\n",
       " 2: '2<-1',\n",
       " 3: '3<-0',\n",
       " 4: '3<-1',\n",
       " 5: '3<-2',\n",
       " 6: '4<-0',\n",
       " 7: '4<-1',\n",
       " 8: '4<-2',\n",
       " 9: '4<-3'}"
      ]
     },
     "execution_count": 60,
     "metadata": {},
     "output_type": "execute_result"
    }
   ],
   "source": [
    "nas_cell.index2key"
   ]
  },
  {
   "cell_type": "code",
   "execution_count": 31,
   "id": "570bbf94",
   "metadata": {},
   "outputs": [],
   "source": [
    "max_len = 6\n",
    "op_names = sorted(OPS.keys())\n",
    "edges = nn.ModuleDict()\n",
    "for i in range(1, max_len):\n",
    "    for j in range(i):\n",
    "        node_str = \"{:}<-{:}\".format(i, j)\n",
    "        if j == 0:\n",
    "            xlists = [\n",
    "                OPS[op_name](16, 3)\n",
    "                for op_name in op_names\n",
    "            ]\n",
    "        else:\n",
    "            xlists = [\n",
    "                OPS[op_name](16, 3)\n",
    "                for op_name in op_names\n",
    "            ]\n",
    "        edges[node_str]= nn.ModuleList(xlists)\n",
    "\n",
    "edges_keys = sorted(list(edges.keys()))\n",
    "edge2index = {key:i for i, key in enumerate(edges_keys)}\n",
    "num_edge = len(edges_keys)\n"
   ]
  },
  {
   "cell_type": "code",
   "execution_count": 39,
   "id": "05f7201a",
   "metadata": {},
   "outputs": [],
   "source": [
    "weights = nn.Parameter(torch.ones([3, 4]))"
   ]
  },
  {
   "cell_type": "code",
   "execution_count": 41,
   "id": "24302063",
   "metadata": {},
   "outputs": [
    {
     "data": {
      "text/plain": [
       "tensor([1., 1., 1., 1.], grad_fn=<SelectBackward0>)"
      ]
     },
     "execution_count": 41,
     "metadata": {},
     "output_type": "execute_result"
    }
   ],
   "source": [
    "weights[2]"
   ]
  },
  {
   "cell_type": "code",
   "execution_count": 38,
   "id": "46b1e4af",
   "metadata": {},
   "outputs": [
    {
     "name": "stdout",
     "output_type": "stream",
     "text": [
      "1 tensor(1., grad_fn=<UnbindBackward0>)\n",
      "2 tensor(1., grad_fn=<UnbindBackward0>)\n",
      "3 tensor(1., grad_fn=<UnbindBackward0>)\n"
     ]
    }
   ],
   "source": [
    "for i, weight in zip([1,2,3], weights):\n",
    "    print(i, weight)"
   ]
  },
  {
   "cell_type": "code",
   "execution_count": null,
   "id": "130961ec",
   "metadata": {},
   "outputs": [],
   "source": []
  }
 ],
 "metadata": {
  "kernelspec": {
   "display_name": "Python 3 (ipykernel)",
   "language": "python",
   "name": "python3"
  },
  "language_info": {
   "codemirror_mode": {
    "name": "ipython",
    "version": 3
   },
   "file_extension": ".py",
   "mimetype": "text/x-python",
   "name": "python",
   "nbconvert_exporter": "python",
   "pygments_lexer": "ipython3",
   "version": "3.8.12"
  }
 },
 "nbformat": 4,
 "nbformat_minor": 5
}
