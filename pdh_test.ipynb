{
 "cells": [
  {
   "cell_type": "code",
   "execution_count": 1,
   "id": "998061c8",
   "metadata": {},
   "outputs": [],
   "source": [
    "import torch"
   ]
  },
  {
   "cell_type": "code",
   "execution_count": 14,
   "id": "84b48383",
   "metadata": {},
   "outputs": [
    {
     "data": {
      "text/plain": [
       "torch.Size([2, 2, 5, 3])"
      ]
     },
     "execution_count": 14,
     "metadata": {},
     "output_type": "execute_result"
    }
   ],
   "source": [
    "s[:, 2:4].shape"
   ]
  },
  {
   "cell_type": "code",
   "execution_count": 8,
   "id": "c2c8a67e",
   "metadata": {},
   "outputs": [
    {
     "name": "stdout",
     "output_type": "stream",
     "text": [
      "tensor([[[[  6,   7,   8],\n",
      "          [  9,  10,  11]],\n",
      "\n",
      "         [[ 21,  22,  23],\n",
      "          [ 24,  25,  26]],\n",
      "\n",
      "         [[ 36,  37,  38],\n",
      "          [ 39,  40,  41]],\n",
      "\n",
      "         [[ 51,  52,  53],\n",
      "          [ 54,  55,  56]]],\n",
      "\n",
      "\n",
      "        [[[ 66,  67,  68],\n",
      "          [ 69,  70,  71]],\n",
      "\n",
      "         [[ 81,  82,  83],\n",
      "          [ 84,  85,  86]],\n",
      "\n",
      "         [[ 96,  97,  98],\n",
      "          [ 99, 100, 101]],\n",
      "\n",
      "         [[111, 112, 113],\n",
      "          [114, 115, 116]]]])\n",
      "torch.return_types.max(\n",
      "values=tensor([[[  9,  10,  11],\n",
      "         [ 24,  25,  26],\n",
      "         [ 39,  40,  41],\n",
      "         [ 54,  55,  56]],\n",
      "\n",
      "        [[ 69,  70,  71],\n",
      "         [ 84,  85,  86],\n",
      "         [ 99, 100, 101],\n",
      "         [114, 115, 116]]]),\n",
      "indices=tensor([[[1, 1, 1],\n",
      "         [1, 1, 1],\n",
      "         [1, 1, 1],\n",
      "         [1, 1, 1]],\n",
      "\n",
      "        [[1, 1, 1],\n",
      "         [1, 1, 1],\n",
      "         [1, 1, 1],\n",
      "         [1, 1, 1]]]))\n"
     ]
    },
    {
     "data": {
      "text/plain": [
       "tensor([[[[ inf,   1.,   2.],\n",
       "          [  3.,   4.,   5.],\n",
       "          [  6.,   7.,   8.],\n",
       "          [  9.,  10.,  11.],\n",
       "          [ 12.,  13.,  14.]],\n",
       "\n",
       "         [[ 15.,  16.,  17.],\n",
       "          [ 18.,  19.,  20.],\n",
       "          [ 21.,  22.,  23.],\n",
       "          [ 24.,  25.,  26.],\n",
       "          [ 27.,  28.,  29.]],\n",
       "\n",
       "         [[ 30.,  31.,  32.],\n",
       "          [ 33.,  34.,  35.],\n",
       "          [ 36.,  37.,  38.],\n",
       "          [ 39.,  40.,  41.],\n",
       "          [ 42.,  43.,  44.]],\n",
       "\n",
       "         [[ 45.,  46.,  47.],\n",
       "          [ 48.,  49.,  50.],\n",
       "          [ 51.,  52.,  53.],\n",
       "          [ 54.,  55.,  56.],\n",
       "          [ 57.,  58.,  59.]]],\n",
       "\n",
       "\n",
       "        [[[ 60.,  61.,  62.],\n",
       "          [ 63.,  64.,  65.],\n",
       "          [ 66.,  67.,  68.],\n",
       "          [ 69.,  70.,  71.],\n",
       "          [ 72.,  73.,  74.]],\n",
       "\n",
       "         [[ 75.,  76.,  77.],\n",
       "          [ 78.,  79.,  80.],\n",
       "          [ 81.,  82.,  83.],\n",
       "          [ 84.,  85.,  86.],\n",
       "          [ 87.,  88.,  89.]],\n",
       "\n",
       "         [[ 90.,  91.,  92.],\n",
       "          [ 93.,  94.,  95.],\n",
       "          [ 96.,  97.,  98.],\n",
       "          [ 99., 100., 101.],\n",
       "          [102., 103., 104.]],\n",
       "\n",
       "         [[105., 106., 107.],\n",
       "          [108., 109., 110.],\n",
       "          [111., 112., 113.],\n",
       "          [114., 115., 116.],\n",
       "          [117., 118., 119.]]]])"
      ]
     },
     "execution_count": 8,
     "metadata": {},
     "output_type": "execute_result"
    }
   ],
   "source": [
    "s = torch.arange(120).reshape(2,4,5,3)\n",
    "\n",
    "print(s[:,:,2:4])\n",
    "print(s[:,:,2:4].max(2))\n",
    "\n",
    "torch.max(s, 1/s)"
   ]
  },
  {
   "cell_type": "code",
   "execution_count": 1,
   "id": "f4f63bfe",
   "metadata": {},
   "outputs": [],
   "source": [
    "import torch\n",
    "import torch.nn as nn\n",
    "import torch.nn.functional as F\n",
    "import numpy as np\n",
    "from copy import deepcopy"
   ]
  },
  {
   "cell_type": "code",
   "execution_count": 4,
   "id": "d2f6b7ce",
   "metadata": {},
   "outputs": [],
   "source": [
    "s = torch.randn([32, 64, 128, 256])"
   ]
  },
  {
   "cell_type": "code",
   "execution_count": 5,
   "id": "80efba5a",
   "metadata": {},
   "outputs": [
    {
     "name": "stdout",
     "output_type": "stream",
     "text": [
      "torch.Size([256, 128, 64, 32])\n",
      "torch.Size([32, 64, 256, 128])\n"
     ]
    },
    {
     "name": "stderr",
     "output_type": "stream",
     "text": [
      "/tmp/ipykernel_22902/396305090.py:1: UserWarning: The use of `x.T` on tensors of dimension other than 2 to reverse their shape is deprecated and it will throw an error in a future release. Consider `x.mT` to transpose batches of matricesor `x.permute(*torch.arange(x.ndim - 1, -1, -1))` to reverse the dimensions of a tensor. (Triggered internally at  /opt/pytorch/pytorch/aten/src/ATen/native/TensorShape.cpp:2244.)\n",
      "  print(s.T.shape)\n"
     ]
    }
   ],
   "source": [
    "print(s.T.shape)\n",
    "print(s.mT.shape)"
   ]
  },
  {
   "cell_type": "code",
   "execution_count": 15,
   "id": "894db67b",
   "metadata": {
    "scrolled": true
   },
   "outputs": [
    {
     "name": "stdout",
     "output_type": "stream",
     "text": [
      "Looking in indexes: https://pypi.org/simple, https://pypi.ngc.nvidia.com\n",
      "Collecting h5py\n",
      "  Downloading h5py-3.6.0-cp38-cp38-manylinux_2_12_x86_64.manylinux2010_x86_64.whl (4.5 MB)\n",
      "\u001b[K     |████████████████████████████████| 4.5 MB 6.7 MB/s eta 0:00:01\n",
      "\u001b[?25hRequirement already satisfied: numpy>=1.14.5 in /opt/conda/lib/python3.8/site-packages (from h5py) (1.21.4)\n",
      "Installing collected packages: h5py\n",
      "Successfully installed h5py-3.6.0\n",
      "\u001b[33mWARNING: Running pip as the 'root' user can result in broken permissions and conflicting behaviour with the system package manager. It is recommended to use a virtual environment instead: https://pip.pypa.io/warnings/venv\u001b[0m\n"
     ]
    }
   ],
   "source": [
    "!pip install h5py"
   ]
  },
  {
   "cell_type": "code",
   "execution_count": 16,
   "id": "bb97ed52",
   "metadata": {},
   "outputs": [],
   "source": [
    "import pathlib"
   ]
  },
  {
   "cell_type": "code",
   "execution_count": 18,
   "id": "8c46ac75",
   "metadata": {},
   "outputs": [],
   "source": [
    "test = pathlib.Path(\"./models/\")"
   ]
  },
  {
   "cell_type": "code",
   "execution_count": 24,
   "id": "0b88551b",
   "metadata": {},
   "outputs": [
    {
     "data": {
      "text/plain": [
       "[PosixPath('models/resnet.py'),\n",
       " PosixPath('models/torch_util.py'),\n",
       " PosixPath('models/__pycache__'),\n",
       " PosixPath('models/.ipynb_checkpoints'),\n",
       " PosixPath('models/__init__.py'),\n",
       " PosixPath('models/__pycache__/torch_util.cpython-38.pyc'),\n",
       " PosixPath('models/__pycache__/__init__.cpython-38.pyc'),\n",
       " PosixPath('models/__pycache__/resnet.cpython-38.pyc')]"
      ]
     },
     "execution_count": 24,
     "metadata": {},
     "output_type": "execute_result"
    }
   ],
   "source": [
    "list(test.glob('**/*'))"
   ]
  },
  {
   "cell_type": "code",
   "execution_count": 31,
   "id": "98324041",
   "metadata": {},
   "outputs": [
    {
     "data": {
      "text/plain": [
       "[3, 2, 1]"
      ]
     },
     "execution_count": 31,
     "metadata": {},
     "output_type": "execute_result"
    }
   ],
   "source": [
    "tt = [1, 2, 3]\n",
    "tt[::-1]"
   ]
  },
  {
   "cell_type": "code",
   "execution_count": 2,
   "id": "98be9b0a",
   "metadata": {},
   "outputs": [
    {
     "name": "stdout",
     "output_type": "stream",
     "text": [
      "['none', 'conv3', 'conv5']\n"
     ]
    }
   ],
   "source": [
    "OPS = {\n",
    "    'none' : lambda C_in, C_out, stride: Zero(stride),\n",
    "    'conv3' : lambda C_in, C_out, stride: nn.Conv2d(C_in, C_out, 3, stride, padding=1),\n",
    "    'conv5' : lambda C_in, C_out, stride: nn.Conv2d(C_in, C_out, 5, stride, padding=2)\n",
    "}\n",
    "\n",
    "class Zero(nn.Module):\n",
    "\n",
    "    def __init__(self, stride):\n",
    "        super(Zero, self).__init__()\n",
    "        self.stride = stride\n",
    "\n",
    "    def forward(self, x):\n",
    "        if self.stride == 1:\n",
    "            return x.mul(0.)\n",
    "        return x[:,:,::self.stride,::self.stride].mul(0.)\n",
    "\n",
    "op_name = list(OPS.keys())\n",
    "print(op_name)"
   ]
  },
  {
   "cell_type": "code",
   "execution_count": 3,
   "id": "f2a333fb",
   "metadata": {},
   "outputs": [],
   "source": [
    "class NAS201SearchCell(nn.Module):\n",
    "    def __init__(\n",
    "        self,\n",
    "        C_in,\n",
    "        C_out,\n",
    "        stride,\n",
    "        max_nodes,\n",
    "        op_names):\n",
    "        \n",
    "        super(NAS201SearchCell, self).__init__()\n",
    "\n",
    "        self.op_names = deepcopy(op_names)\n",
    "        self.edges = nn.ModuleDict()\n",
    "        self.max_nodes = max_nodes\n",
    "        self.in_dim = C_in\n",
    "        self.out_dim = C_out\n",
    "        \n",
    "        for i in range(1, max_nodes):\n",
    "            for j in range(i):\n",
    "                node_str = \"{:}<-{:}\".format(i, j)\n",
    "                if j == 0:\n",
    "                    xlists = [\n",
    "                        OPS[op_name](C_in, C_out, stride)\n",
    "                        for op_name in op_names\n",
    "                    ]\n",
    "                else:\n",
    "                    xlists = [\n",
    "                        OPS[op_name](C_in, C_out, 1)\n",
    "                        for op_name in op_names\n",
    "                    ]\n",
    "                self.edges[node_str] = nn.ModuleList(xlists)\n",
    "                \n",
    "        self.edge_keys = sorted(list(self.edges.keys()))\n",
    "        self.edge2index = {key: i for i, key in enumerate(self.edge_keys)}\n",
    "        self.index2key = {i:key for i, key in enumerate(self.edge_keys)}\n",
    "        self.num_edges = len(self.edges)\n",
    "        self.register_buffer('alphas', nn.Parameter(1e-3 * torch.randn(self.num_edges, len(op_names))))\n",
    "        \n",
    "\n",
    "    def extra_repr(self):\n",
    "        string = \"info :: {max_nodes} nodes, inC={in_dim}, outC={out_dim}\".format(\n",
    "            **self.__dict__\n",
    "        )\n",
    "        return string\n",
    "    \n",
    "    def get_arch_parameters(self):\n",
    "        _arch_parameters = []\n",
    "        \n",
    "        \n",
    "        for k, v in self.named_parameters():\n",
    "            if k.endswith('alpha'):\n",
    "                _arch_parameters.append(v)\n",
    "        \n",
    "        return _arch_parameters\n",
    "    \n",
    "\n",
    "    def forward(self, inputs):\n",
    "        nodes = [inputs]\n",
    "        for i in range(1, self.max_nodes):\n",
    "            inter_nodes = []\n",
    "            for j in range(i):\n",
    "                node_str = \"{:}<-{:}\".format(i, j)\n",
    "                weights = self.alphas[self.edge2index[node_str]]\n",
    "                inter_nodes.append(\n",
    "                    sum(\n",
    "                        layer(nodes[j]) * w\n",
    "                        for layer, w in zip(self.edges[node_str], weights)\n",
    "                    )\n",
    "                )\n",
    "            nodes.append(sum(inter_nodes))\n",
    "        return nodes[-1]\n"
   ]
  },
  {
   "cell_type": "code",
   "execution_count": 4,
   "id": "7f307bb2",
   "metadata": {},
   "outputs": [],
   "source": [
    "nas_cell = NAS201SearchCell(32, 32, 1, 5, op_name)"
   ]
  },
  {
   "cell_type": "code",
   "execution_count": 10,
   "id": "6a4bbc95",
   "metadata": {},
   "outputs": [],
   "source": [
    "nas_cell = nas_cell.cuda()\n",
    "\n",
    "dummy_input = torch.ones(64, 32, 16, 16).cuda()\n",
    "\n",
    "out = nas_cell(dummy_input)"
   ]
  },
  {
   "cell_type": "code",
   "execution_count": 13,
   "id": "1a21a44d",
   "metadata": {},
   "outputs": [],
   "source": [
    "out.backward(torch.ones(64,32,16,16).cuda())"
   ]
  },
  {
   "cell_type": "code",
   "execution_count": null,
   "id": "21fbab2f",
   "metadata": {},
   "outputs": [],
   "source": []
  },
  {
   "cell_type": "code",
   "execution_count": 31,
   "id": "570bbf94",
   "metadata": {},
   "outputs": [],
   "source": [
    "max_len = 6\n",
    "op_names = sorted(OPS.keys())\n",
    "edges = nn.ModuleDict()\n",
    "for i in range(1, max_len):\n",
    "    for j in range(i):\n",
    "        node_str = \"{:}<-{:}\".format(i, j)\n",
    "        if j == 0:\n",
    "            xlists = [\n",
    "                OPS[op_name](16, 3)\n",
    "                for op_name in op_names\n",
    "            ]\n",
    "        else:\n",
    "            xlists = [\n",
    "                OPS[op_name](16, 3)\n",
    "                for op_name in op_names\n",
    "            ]\n",
    "        edges[node_str]= nn.ModuleList(xlists)\n",
    "\n",
    "edges_keys = sorted(list(edges.keys()))\n",
    "edge2index = {key:i for i, key in enumerate(edges_keys)}\n",
    "num_edge = len(edges_keys)\n"
   ]
  },
  {
   "cell_type": "code",
   "execution_count": 39,
   "id": "69fe341d",
   "metadata": {},
   "outputs": [],
   "source": [
    "weights = nn.Parameter(torch.ones([3, 4]))"
   ]
  },
  {
   "cell_type": "code",
   "execution_count": 41,
   "id": "0981fef5",
   "metadata": {},
   "outputs": [
    {
     "data": {
      "text/plain": [
       "tensor([1., 1., 1., 1.], grad_fn=<SelectBackward0>)"
      ]
     },
     "execution_count": 41,
     "metadata": {},
     "output_type": "execute_result"
    }
   ],
   "source": [
    "weights[2]"
   ]
  },
  {
   "cell_type": "code",
   "execution_count": 38,
   "id": "46b1e4af",
   "metadata": {},
   "outputs": [
    {
     "name": "stdout",
     "output_type": "stream",
     "text": [
      "1 tensor(1., grad_fn=<UnbindBackward0>)\n",
      "2 tensor(1., grad_fn=<UnbindBackward0>)\n",
      "3 tensor(1., grad_fn=<UnbindBackward0>)\n"
     ]
    }
   ],
   "source": [
    "for i, weight in zip([1,2,3], weights):\n",
    "    print(i, weight)"
   ]
  },
  {
   "cell_type": "code",
   "execution_count": null,
   "id": "1934ea09",
   "metadata": {},
   "outputs": [],
   "source": []
  },
  {
   "cell_type": "code",
   "execution_count": null,
   "id": "c0c5198a",
   "metadata": {},
   "outputs": [],
   "source": []
  }
 ],
 "metadata": {
  "kernelspec": {
   "display_name": "Python 3 (ipykernel)",
   "language": "python",
   "name": "python3"
  },
  "language_info": {
   "codemirror_mode": {
    "name": "ipython",
    "version": 3
   },
   "file_extension": ".py",
   "mimetype": "text/x-python",
   "name": "python",
   "nbconvert_exporter": "python",
   "pygments_lexer": "ipython3",
   "version": "3.8.12"
  }
 },
 "nbformat": 4,
 "nbformat_minor": 5
}
