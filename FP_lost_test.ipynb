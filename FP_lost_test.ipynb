{
 "cells": [
  {
   "cell_type": "code",
   "execution_count": 1,
   "metadata": {},
   "outputs": [],
   "source": [
    "import torch\n",
    "import torch.nn as nn\n",
    "import copy\n",
    "from pyhocon import ConfigFactory\n",
    "from models.resnet import resnet50im"
   ]
  },
  {
   "cell_type": "code",
   "execution_count": 2,
   "metadata": {},
   "outputs": [],
   "source": [
    "conf = ConfigFactory.parse_file(\"./resnet50_imagenet.hocon\")\n",
    "getattr(conf, 'data_path')"
   ]
  },
  {
   "cell_type": "code",
   "execution_count": 4,
   "metadata": {},
   "outputs": [],
   "source": [
    "t = resnet50im(pretrained=False)"
   ]
  },
  {
   "cell_type": "code",
   "execution_count": 8,
   "metadata": {},
   "outputs": [
    {
     "ename": "TypeError",
     "evalue": "object of type 'ResNet_im' has no len()",
     "output_type": "error",
     "traceback": [
      "\u001b[0;31m---------------------------------------------------------------------------\u001b[0m",
      "\u001b[0;31mTypeError\u001b[0m                                 Traceback (most recent call last)",
      "\u001b[0;32m/tmp/ipykernel_10613/1262176393.py\u001b[0m in \u001b[0;36m<module>\u001b[0;34m\u001b[0m\n\u001b[0;32m----> 1\u001b[0;31m \u001b[0mlen\u001b[0m\u001b[0;34m(\u001b[0m\u001b[0mt\u001b[0m\u001b[0;34m)\u001b[0m\u001b[0;34m\u001b[0m\u001b[0;34m\u001b[0m\u001b[0m\n\u001b[0m",
      "\u001b[0;31mTypeError\u001b[0m: object of type 'ResNet_im' has no len()"
     ]
    }
   ],
   "source": []
  },
  {
   "cell_type": "code",
   "execution_count": 7,
   "metadata": {},
   "outputs": [
    {
     "name": "stdout",
     "output_type": "stream",
     "text": [
      "None\n"
     ]
    }
   ],
   "source": [
    "f = getattr(conf, 'date', None)\n",
    "print(f)"
   ]
  },
  {
   "cell_type": "code",
   "execution_count": 8,
   "metadata": {},
   "outputs": [
    {
     "name": "stdout",
     "output_type": "stream",
     "text": [
      "GPU\n",
      "activation_index\n",
      "activation_step\n",
      "batch_size\n",
      "data_path\n",
      "dataset\n",
      "epochs\n",
      "load_state_dict\n",
      "log_override\n",
      "lr\n",
      "lr_gamma\n",
      "ml_step\n",
      "model_name\n",
      "momentum\n",
      "nGPU\n",
      "nesterov\n",
      "optimizer\n",
      "save_path\n",
      "scheduler\n",
      "seed\n",
      "train\n",
      "visible_devices\n",
      "warmup\n",
      "weight_decay\n",
      "worker\n"
     ]
    }
   ],
   "source": [
    "for k, v in sorted(conf.items()):\n",
    "    print(k)"
   ]
  },
  {
   "cell_type": "code",
   "execution_count": 5,
   "metadata": {},
   "outputs": [],
   "source": [
    "# This Matrix Adder (M, N) -> M\n",
    "def MatrixAdder(tensor, AdderType=\"FP16\"):\n",
    "    epsilon = 1e-10\n",
    "    if not (len(tensor.shape) == 2 or len(tensor.shape) == 3) :\n",
    "        AssertionError(f\"It only supported 2d Matrix, this tensor shape {tensor.shape}\")\n",
    "\n",
    "    if AdderType==\"FP16\":\n",
    "        mantissa = 10\n",
    "    elif AdderType==\"BF16\":\n",
    "        mantissa = 7\n",
    "    elif AdderType==\"FP32\":\n",
    "        mantissa = 22\n",
    "    else:\n",
    "        AssertionError(\"This Adder only supported FP16|BF16|FP32\")\n",
    "    \n",
    "    temp_tensor =tensor.clone()\n",
    "    zero_mask_counter = []\n",
    "    for i in range(tensor.shape[1] -1):\n",
    "        prev = temp_tensor[:, i]\n",
    "        prec = temp_tensor[:, i+1]\n",
    "        log_prev = torch.log2(torch.abs(prev)+epsilon)\n",
    "        log_prec = torch.log2(torch.abs(prec)+epsilon)\n",
    "        zero_mask = torch.abs(log_prec-log_prev) > mantissa\n",
    "        max_log_tensor = prec.clone()\n",
    "        max_log_tensor[log_prec<log_prev] = prev[log_prec<log_prev] # 두 벡터 중 log2 의 value가 큰 값을 가지고 있는 vector 생성\n",
    "        output = prec+prev # 두 벡터를 더함\n",
    "        output[zero_mask] = max_log_tensor[zero_mask] # zero_mask에 해당하는 부분은 log2 value가 큰 값만 저장\n",
    "        temp_tensor[:, i+1] = output\n",
    "        zero_mask_counter.append(zero_mask)\n",
    "    \n",
    "    return temp_tensor[:, -1], zero_mask_counter\n"
   ]
  },
  {
   "cell_type": "code",
   "execution_count": 16,
   "metadata": {},
   "outputs": [
    {
     "name": "stdout",
     "output_type": "stream",
     "text": [
      "tensor([[3.9370e+00, 7.8298e-01, 1.5034e-01, 2.4758e+00, 1.3864e+00, 5.6828e-01,\n",
      "         4.7699e+00, 1.8230e+00, 2.9456e+00, 5.1370e-01, 5.0717e-02, 6.2752e-02,\n",
      "         8.4385e-02, 5.9801e-01, 6.8525e+00, 2.9430e+00, 1.6369e+00, 2.2257e+00,\n",
      "         6.8369e-01, 1.0105e+00, 5.6695e-01, 1.7879e-03, 4.0398e-01, 2.6070e-01,\n",
      "         2.3527e-05, 4.6133e-01, 1.3302e+00, 6.8196e-01, 4.8022e-03, 5.0157e-01],\n",
      "        [4.2412e-01, 1.5789e-01, 9.6760e-01, 2.2764e-01, 4.2269e+00, 1.1610e+00,\n",
      "         1.8820e-02, 1.1281e+00, 5.8814e-02, 1.6904e+00, 7.4702e-01, 7.3028e-02,\n",
      "         1.8471e+00, 4.2020e-02, 1.6039e+00, 3.8327e-03, 1.5869e+00, 3.2844e-02,\n",
      "         1.1708e+00, 5.9470e-02, 2.6630e-03, 4.2497e-01, 2.6800e-01, 2.0122e-01,\n",
      "         1.1860e+00, 1.6024e+00, 4.6157e-02, 9.1540e-02, 5.6143e-01, 5.1917e-02],\n",
      "        [1.0231e-01, 4.4194e-01, 3.2181e-01, 1.7558e-02, 1.0916e+00, 1.3198e+00,\n",
      "         3.2256e-01, 1.7297e+00, 1.2794e-01, 1.5333e+00, 3.5121e-01, 1.5289e+00,\n",
      "         9.8581e-01, 2.3348e+00, 1.8216e+00, 4.8562e-01, 2.0592e+00, 1.2909e+00,\n",
      "         3.8910e-02, 8.5983e-01, 2.8495e-02, 1.1138e-02, 1.8789e+00, 1.3920e-02,\n",
      "         8.5116e-04, 1.4956e-01, 1.2605e+00, 1.8662e+00, 8.4636e-01, 7.6903e+00],\n",
      "        [3.3142e-01, 4.9105e-01, 2.1265e-01, 5.6526e-01, 4.2870e-05, 1.2070e+00,\n",
      "         7.9939e-01, 1.8235e+00, 1.6365e+00, 1.1563e-02, 1.4612e-04, 5.8188e-01,\n",
      "         2.2493e-03, 1.2297e+00, 6.1749e-01, 3.2133e-02, 5.9474e-01, 1.2224e+00,\n",
      "         6.4648e-02, 2.3084e-02, 3.8576e-01, 1.1738e+00, 6.6090e-02, 1.0941e-03,\n",
      "         6.4222e-01, 1.1015e+00, 7.6838e-01, 5.1943e-01, 5.9765e-01, 1.1100e-01]])\n"
     ]
    }
   ],
   "source": [
    "f = torch.randn(4, 30) **2\n",
    "print(f)\n",
    "ot, zero_mask_counter = MatrixAdder(f, \"BF16\")"
   ]
  },
  {
   "cell_type": "code",
   "execution_count": 17,
   "metadata": {},
   "outputs": [
    {
     "data": {
      "text/plain": [
       "[tensor([False, False, False, False]),\n",
       " tensor([False, False, False, False]),\n",
       " tensor([False, False, False, False]),\n",
       " tensor([False, False, False,  True]),\n",
       " tensor([False, False, False, False]),\n",
       " tensor([False,  True, False, False]),\n",
       " tensor([False, False, False, False]),\n",
       " tensor([False,  True, False, False]),\n",
       " tensor([False, False, False,  True]),\n",
       " tensor([ True, False, False,  True]),\n",
       " tensor([ True,  True, False, False]),\n",
       " tensor([ True, False, False,  True]),\n",
       " tensor([False,  True, False, False]),\n",
       " tensor([False, False, False, False]),\n",
       " tensor([False,  True, False,  True]),\n",
       " tensor([False, False, False, False]),\n",
       " tensor([False,  True, False, False]),\n",
       " tensor([False, False,  True,  True]),\n",
       " tensor([False,  True, False,  True]),\n",
       " tensor([False,  True,  True, False]),\n",
       " tensor([ True, False,  True, False]),\n",
       " tensor([False, False, False,  True]),\n",
       " tensor([ True, False,  True,  True]),\n",
       " tensor([ True, False,  True, False]),\n",
       " tensor([False, False,  True, False]),\n",
       " tensor([False,  True, False, False]),\n",
       " tensor([False,  True, False, False]),\n",
       " tensor([ True, False, False, False]),\n",
       " tensor([False,  True, False,  True])]"
      ]
     },
     "execution_count": 17,
     "metadata": {},
     "output_type": "execute_result"
    }
   ],
   "source": [
    "zero_mask_counter"
   ]
  },
  {
   "cell_type": "code",
   "execution_count": 11,
   "metadata": {},
   "outputs": [
    {
     "name": "stdout",
     "output_type": "stream",
     "text": [
      "tensor([[ 0,  1,  3,  6,  4],\n",
      "        [ 5, 11, 18,  8, 17],\n",
      "        [10, 21, 12, 25, 39],\n",
      "        [15, 16, 33, 51, 70]])\n",
      "f tensor([ 1, 11, 21, 16])\n",
      "g tensor([ 0,  5, 10, 15])\n",
      "tensor([False, False, False,  True])\n",
      "f+g tensor([ 1, 16, 31, 31])\n",
      "rull_out : tensor([ 1, 16, 31, 16])\n",
      "tensor([[ 0,  1,  3,  6,  4],\n",
      "        [ 5, 16, 18,  8, 17],\n",
      "        [10, 31, 12, 25, 39],\n",
      "        [15, 16, 33, 51, 70]])\n",
      "f tensor([ 3, 18, 12, 33])\n",
      "g tensor([ 1, 16, 31, 16])\n",
      "tensor([False, False,  True, False])\n",
      "f+g tensor([ 4, 34, 43, 49])\n",
      "rull_out : tensor([ 4, 34, 12, 49])\n",
      "tensor([[ 0,  1,  4,  6,  4],\n",
      "        [ 5, 16, 34,  8, 17],\n",
      "        [10, 31, 12, 25, 39],\n",
      "        [15, 16, 49, 51, 70]])\n",
      "f tensor([ 6,  8, 25, 51])\n",
      "g tensor([ 4, 34, 12, 49])\n",
      "tensor([False,  True, False, False])\n",
      "f+g tensor([ 10,  42,  37, 100])\n",
      "rull_out : tensor([ 10,   8,  37, 100])\n",
      "tensor([[  0,   1,   4,  10,   4],\n",
      "        [  5,  16,  34,   8,  17],\n",
      "        [ 10,  31,  12,  37,  39],\n",
      "        [ 15,  16,  49, 100,  70]])\n",
      "f tensor([ 4, 17, 39, 70])\n",
      "g tensor([ 10,   8,  37, 100])\n",
      "tensor([ True, False, False, False])\n",
      "f+g tensor([ 14,  25,  76, 170])\n",
      "rull_out : tensor([  4,  25,  76, 170])\n",
      "tensor([[  0,   1,   4,  10,   4],\n",
      "        [  5,  16,  34,   8,  25],\n",
      "        [ 10,  31,  12,  37,  76],\n",
      "        [ 15,  16,  49, 100, 170]])\n"
     ]
    }
   ],
   "source": [
    "# a의 값이 % 4 == 0 면 더하고 아니면 그대로 값을 넘겨줌\n",
    "a = torch.arange(20).reshape(4,5)\n",
    "for i in range(a.shape[1] -1):\n",
    "    print(a)\n",
    "    f = a[:, i+1]\n",
    "    g = a[:, i]\n",
    "    print(\"f\", f)\n",
    "    print(\"g\", g)\n",
    "    mask = (f % 4 == 0)\n",
    "    print(mask)\n",
    "    out = f+g\n",
    "    print(\"f+g\", out)\n",
    "    out[mask] = f[mask]\n",
    "    print(\"rull_out :\", out)\n",
    "    a[:, i+1] = out\n",
    "print(a)"
   ]
  },
  {
   "cell_type": "code",
   "execution_count": null,
   "metadata": {},
   "outputs": [],
   "source": []
  }
 ],
 "metadata": {
  "interpreter": {
   "hash": "d4d1e4263499bec80672ea0156c357c1ee493ec2b1c70f0acce89fc37c4a6abe"
  },
  "kernelspec": {
   "display_name": "Python 3.8.12 ('base')",
   "language": "python",
   "name": "python3"
  },
  "language_info": {
   "codemirror_mode": {
    "name": "ipython",
    "version": 3
   },
   "file_extension": ".py",
   "mimetype": "text/x-python",
   "name": "python",
   "nbconvert_exporter": "python",
   "pygments_lexer": "ipython3",
   "version": "3.8.12"
  },
  "orig_nbformat": 4
 },
 "nbformat": 4,
 "nbformat_minor": 2
}
